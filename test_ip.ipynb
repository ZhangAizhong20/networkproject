{
 "cells": [
  {
   "cell_type": "code",
   "execution_count": 1,
   "metadata": {},
   "outputs": [],
   "source": [
    "import numpy as np\n",
    "import pandas as pd\n",
    "import plotly.graph_objects as go\n",
    "import requests\n"
   ]
  },
  {
   "cell_type": "code",
   "execution_count": 2,
   "metadata": {},
   "outputs": [
    {
     "data": {
      "text/plain": [
       "{'ip': '223.120.10.86',\n",
       " 'country_code': 'HK',\n",
       " 'country_name': 'Hong Kong',\n",
       " 'region_name': 'Hong Kong',\n",
       " 'city_name': 'Hong Kong',\n",
       " 'latitude': 22.28552,\n",
       " 'longitude': 114.15769,\n",
       " 'zip_code': '-',\n",
       " 'time_zone': '+08:00',\n",
       " 'asn': '58453',\n",
       " 'as': 'Level 30 Tower 1',\n",
       " 'is_proxy': False}"
      ]
     },
     "execution_count": 2,
     "metadata": {},
     "output_type": "execute_result"
    }
   ],
   "source": [
    "\n",
    "payload = {'key': 'C1124EC93984B81A7614D75B3FF2C3C4', 'ip': ' 223.120.10.86', 'format': 'json'}\n",
    "api_result = requests.get('https://api.ip2location.io/', params=payload)\n",
    "\n",
    "api_result.json()"
   ]
  },
  {
   "cell_type": "code",
   "execution_count": null,
   "metadata": {},
   "outputs": [],
   "source": [
    "fig = go.Figure(go.Scattermapbox(\n",
    "    lat=[40.7128, 40.7128, 40.7128],  # 点的纬度\n",
    "    lon=[-74.0060, -74.0060, -74.0060],  # 点的经度\n",
    "    mode='markers',  # 模式设置为 markers\n",
    "    marker=dict(\n",
    "        size=10,  # 点的大小\n",
    "        color='blue'  # 点的颜色\n",
    "    ),\n",
    "    text=['Point 1', 'Point 2', 'Point 3'],  # 点旁边的文字\n",
    "    hoverinfo='text'  # 设置悬停时显示的信息为文字\n",
    "))"
   ]
  },
  {
   "cell_type": "code",
   "execution_count": 3,
   "metadata": {},
   "outputs": [
    {
     "ename": "URLError",
     "evalue": "<urlopen error [Errno 11004] getaddrinfo failed>",
     "output_type": "error",
     "traceback": [
      "\u001b[1;31m---------------------------------------------------------------------------\u001b[0m",
      "\u001b[1;31mgaierror\u001b[0m                                  Traceback (most recent call last)",
      "File \u001b[1;32mc:\\Users\\11498\\miniconda3\\envs\\boost\\lib\\urllib\\request.py:1346\u001b[0m, in \u001b[0;36mAbstractHTTPHandler.do_open\u001b[1;34m(self, http_class, req, **http_conn_args)\u001b[0m\n\u001b[0;32m   1345\u001b[0m \u001b[39mtry\u001b[39;00m:\n\u001b[1;32m-> 1346\u001b[0m     h\u001b[39m.\u001b[39;49mrequest(req\u001b[39m.\u001b[39;49mget_method(), req\u001b[39m.\u001b[39;49mselector, req\u001b[39m.\u001b[39;49mdata, headers,\n\u001b[0;32m   1347\u001b[0m               encode_chunked\u001b[39m=\u001b[39;49mreq\u001b[39m.\u001b[39;49mhas_header(\u001b[39m'\u001b[39;49m\u001b[39mTransfer-encoding\u001b[39;49m\u001b[39m'\u001b[39;49m))\n\u001b[0;32m   1348\u001b[0m \u001b[39mexcept\u001b[39;00m \u001b[39mOSError\u001b[39;00m \u001b[39mas\u001b[39;00m err: \u001b[39m# timeout error\u001b[39;00m\n",
      "File \u001b[1;32mc:\\Users\\11498\\miniconda3\\envs\\boost\\lib\\http\\client.py:1285\u001b[0m, in \u001b[0;36mHTTPConnection.request\u001b[1;34m(self, method, url, body, headers, encode_chunked)\u001b[0m\n\u001b[0;32m   1284\u001b[0m \u001b[39m\"\"\"Send a complete request to the server.\"\"\"\u001b[39;00m\n\u001b[1;32m-> 1285\u001b[0m \u001b[39mself\u001b[39;49m\u001b[39m.\u001b[39;49m_send_request(method, url, body, headers, encode_chunked)\n",
      "File \u001b[1;32mc:\\Users\\11498\\miniconda3\\envs\\boost\\lib\\http\\client.py:1331\u001b[0m, in \u001b[0;36mHTTPConnection._send_request\u001b[1;34m(self, method, url, body, headers, encode_chunked)\u001b[0m\n\u001b[0;32m   1330\u001b[0m     body \u001b[39m=\u001b[39m _encode(body, \u001b[39m'\u001b[39m\u001b[39mbody\u001b[39m\u001b[39m'\u001b[39m)\n\u001b[1;32m-> 1331\u001b[0m \u001b[39mself\u001b[39;49m\u001b[39m.\u001b[39;49mendheaders(body, encode_chunked\u001b[39m=\u001b[39;49mencode_chunked)\n",
      "File \u001b[1;32mc:\\Users\\11498\\miniconda3\\envs\\boost\\lib\\http\\client.py:1280\u001b[0m, in \u001b[0;36mHTTPConnection.endheaders\u001b[1;34m(self, message_body, encode_chunked)\u001b[0m\n\u001b[0;32m   1279\u001b[0m     \u001b[39mraise\u001b[39;00m CannotSendHeader()\n\u001b[1;32m-> 1280\u001b[0m \u001b[39mself\u001b[39;49m\u001b[39m.\u001b[39;49m_send_output(message_body, encode_chunked\u001b[39m=\u001b[39;49mencode_chunked)\n",
      "File \u001b[1;32mc:\\Users\\11498\\miniconda3\\envs\\boost\\lib\\http\\client.py:1040\u001b[0m, in \u001b[0;36mHTTPConnection._send_output\u001b[1;34m(self, message_body, encode_chunked)\u001b[0m\n\u001b[0;32m   1039\u001b[0m \u001b[39mdel\u001b[39;00m \u001b[39mself\u001b[39m\u001b[39m.\u001b[39m_buffer[:]\n\u001b[1;32m-> 1040\u001b[0m \u001b[39mself\u001b[39;49m\u001b[39m.\u001b[39;49msend(msg)\n\u001b[0;32m   1042\u001b[0m \u001b[39mif\u001b[39;00m message_body \u001b[39mis\u001b[39;00m \u001b[39mnot\u001b[39;00m \u001b[39mNone\u001b[39;00m:\n\u001b[0;32m   1043\u001b[0m \n\u001b[0;32m   1044\u001b[0m     \u001b[39m# create a consistent interface to message_body\u001b[39;00m\n",
      "File \u001b[1;32mc:\\Users\\11498\\miniconda3\\envs\\boost\\lib\\http\\client.py:980\u001b[0m, in \u001b[0;36mHTTPConnection.send\u001b[1;34m(self, data)\u001b[0m\n\u001b[0;32m    979\u001b[0m \u001b[39mif\u001b[39;00m \u001b[39mself\u001b[39m\u001b[39m.\u001b[39mauto_open:\n\u001b[1;32m--> 980\u001b[0m     \u001b[39mself\u001b[39;49m\u001b[39m.\u001b[39;49mconnect()\n\u001b[0;32m    981\u001b[0m \u001b[39melse\u001b[39;00m:\n",
      "File \u001b[1;32mc:\\Users\\11498\\miniconda3\\envs\\boost\\lib\\http\\client.py:1447\u001b[0m, in \u001b[0;36mHTTPSConnection.connect\u001b[1;34m(self)\u001b[0m\n\u001b[0;32m   1445\u001b[0m \u001b[39m\"\u001b[39m\u001b[39mConnect to a host on a given (SSL) port.\u001b[39m\u001b[39m\"\u001b[39m\n\u001b[1;32m-> 1447\u001b[0m \u001b[39msuper\u001b[39;49m()\u001b[39m.\u001b[39;49mconnect()\n\u001b[0;32m   1449\u001b[0m \u001b[39mif\u001b[39;00m \u001b[39mself\u001b[39m\u001b[39m.\u001b[39m_tunnel_host:\n",
      "File \u001b[1;32mc:\\Users\\11498\\miniconda3\\envs\\boost\\lib\\http\\client.py:946\u001b[0m, in \u001b[0;36mHTTPConnection.connect\u001b[1;34m(self)\u001b[0m\n\u001b[0;32m    945\u001b[0m \u001b[39m\"\"\"Connect to the host and port specified in __init__.\"\"\"\u001b[39;00m\n\u001b[1;32m--> 946\u001b[0m \u001b[39mself\u001b[39m\u001b[39m.\u001b[39msock \u001b[39m=\u001b[39m \u001b[39mself\u001b[39;49m\u001b[39m.\u001b[39;49m_create_connection(\n\u001b[0;32m    947\u001b[0m     (\u001b[39mself\u001b[39;49m\u001b[39m.\u001b[39;49mhost,\u001b[39mself\u001b[39;49m\u001b[39m.\u001b[39;49mport), \u001b[39mself\u001b[39;49m\u001b[39m.\u001b[39;49mtimeout, \u001b[39mself\u001b[39;49m\u001b[39m.\u001b[39;49msource_address)\n\u001b[0;32m    948\u001b[0m \u001b[39m# Might fail in OSs that don't implement TCP_NODELAY\u001b[39;00m\n",
      "File \u001b[1;32mc:\\Users\\11498\\miniconda3\\envs\\boost\\lib\\socket.py:823\u001b[0m, in \u001b[0;36mcreate_connection\u001b[1;34m(address, timeout, source_address)\u001b[0m\n\u001b[0;32m    822\u001b[0m err \u001b[39m=\u001b[39m \u001b[39mNone\u001b[39;00m\n\u001b[1;32m--> 823\u001b[0m \u001b[39mfor\u001b[39;00m res \u001b[39min\u001b[39;00m getaddrinfo(host, port, \u001b[39m0\u001b[39;49m, SOCK_STREAM):\n\u001b[0;32m    824\u001b[0m     af, socktype, proto, canonname, sa \u001b[39m=\u001b[39m res\n",
      "File \u001b[1;32mc:\\Users\\11498\\miniconda3\\envs\\boost\\lib\\socket.py:954\u001b[0m, in \u001b[0;36mgetaddrinfo\u001b[1;34m(host, port, family, type, proto, flags)\u001b[0m\n\u001b[0;32m    953\u001b[0m addrlist \u001b[39m=\u001b[39m []\n\u001b[1;32m--> 954\u001b[0m \u001b[39mfor\u001b[39;00m res \u001b[39min\u001b[39;00m _socket\u001b[39m.\u001b[39;49mgetaddrinfo(host, port, family, \u001b[39mtype\u001b[39;49m, proto, flags):\n\u001b[0;32m    955\u001b[0m     af, socktype, proto, canonname, sa \u001b[39m=\u001b[39m res\n",
      "\u001b[1;31mgaierror\u001b[0m: [Errno 11004] getaddrinfo failed",
      "\nDuring handling of the above exception, another exception occurred:\n",
      "\u001b[1;31mURLError\u001b[0m                                  Traceback (most recent call last)",
      "\u001b[1;32mf:\\大三下\\network\\期末大作业\\test_ip.ipynb Cell 2\u001b[0m in \u001b[0;36m<cell line: 8>\u001b[1;34m()\u001b[0m\n\u001b[0;32m      <a href='vscode-notebook-cell:/f%3A/%E5%A4%A7%E4%B8%89%E4%B8%8B/network/%E6%9C%9F%E6%9C%AB%E5%A4%A7%E4%BD%9C%E4%B8%9A/test_ip.ipynb#W1sZmlsZQ%3D%3D?line=5'>6</a>\u001b[0m I_list \u001b[39m=\u001b[39m \u001b[39mlist\u001b[39m(np\u001b[39m.\u001b[39mrandom\u001b[39m.\u001b[39mrandint(\u001b[39m0\u001b[39m,\u001b[39m3229\u001b[39m,\u001b[39m10\u001b[39m))\n\u001b[0;32m      <a href='vscode-notebook-cell:/f%3A/%E5%A4%A7%E4%B8%89%E4%B8%8B/network/%E6%9C%9F%E6%9C%AB%E5%A4%A7%E4%BD%9C%E4%B8%9A/test_ip.ipynb#W1sZmlsZQ%3D%3D?line=6'>7</a>\u001b[0m skiplist \u001b[39m=\u001b[39m \u001b[39mset\u001b[39m(\u001b[39mrange\u001b[39m(\u001b[39m1\u001b[39m, \u001b[39m3229\u001b[39m)) \u001b[39m-\u001b[39m \u001b[39mset\u001b[39m(I_list)\n\u001b[1;32m----> <a href='vscode-notebook-cell:/f%3A/%E5%A4%A7%E4%B8%89%E4%B8%8B/network/%E6%9C%9F%E6%9C%AB%E5%A4%A7%E4%BD%9C%E4%B8%9A/test_ip.ipynb#W1sZmlsZQ%3D%3D?line=7'>8</a>\u001b[0m locations \u001b[39m=\u001b[39m pd\u001b[39m.\u001b[39;49mread_csv(\u001b[39m'\u001b[39;49m\u001b[39mhttps://raw.githubusercontent.com/plotly/datasets/master/2014_us_cities.csv\u001b[39;49m\u001b[39m'\u001b[39;49m, skiprows\u001b[39m=\u001b[39;49mskiplist)\n\u001b[0;32m     <a href='vscode-notebook-cell:/f%3A/%E5%A4%A7%E4%B8%89%E4%B8%8B/network/%E6%9C%9F%E6%9C%AB%E5%A4%A7%E4%BD%9C%E4%B8%9A/test_ip.ipynb#W1sZmlsZQ%3D%3D?line=9'>10</a>\u001b[0m scale \u001b[39m=\u001b[39m \u001b[39m5000\u001b[39m\n\u001b[0;32m     <a href='vscode-notebook-cell:/f%3A/%E5%A4%A7%E4%B8%89%E4%B8%8B/network/%E6%9C%9F%E6%9C%AB%E5%A4%A7%E4%BD%9C%E4%B8%9A/test_ip.ipynb#W1sZmlsZQ%3D%3D?line=10'>11</a>\u001b[0m fig \u001b[39m=\u001b[39m go\u001b[39m.\u001b[39mFigure()\n",
      "File \u001b[1;32mc:\\Users\\11498\\miniconda3\\envs\\boost\\lib\\site-packages\\pandas\\io\\parsers\\readers.py:912\u001b[0m, in \u001b[0;36mread_csv\u001b[1;34m(filepath_or_buffer, sep, delimiter, header, names, index_col, usecols, dtype, engine, converters, true_values, false_values, skipinitialspace, skiprows, skipfooter, nrows, na_values, keep_default_na, na_filter, verbose, skip_blank_lines, parse_dates, infer_datetime_format, keep_date_col, date_parser, date_format, dayfirst, cache_dates, iterator, chunksize, compression, thousands, decimal, lineterminator, quotechar, quoting, doublequote, escapechar, comment, encoding, encoding_errors, dialect, on_bad_lines, delim_whitespace, low_memory, memory_map, float_precision, storage_options, dtype_backend)\u001b[0m\n\u001b[0;32m    899\u001b[0m kwds_defaults \u001b[39m=\u001b[39m _refine_defaults_read(\n\u001b[0;32m    900\u001b[0m     dialect,\n\u001b[0;32m    901\u001b[0m     delimiter,\n\u001b[1;32m   (...)\u001b[0m\n\u001b[0;32m    908\u001b[0m     dtype_backend\u001b[39m=\u001b[39mdtype_backend,\n\u001b[0;32m    909\u001b[0m )\n\u001b[0;32m    910\u001b[0m kwds\u001b[39m.\u001b[39mupdate(kwds_defaults)\n\u001b[1;32m--> 912\u001b[0m \u001b[39mreturn\u001b[39;00m _read(filepath_or_buffer, kwds)\n",
      "File \u001b[1;32mc:\\Users\\11498\\miniconda3\\envs\\boost\\lib\\site-packages\\pandas\\io\\parsers\\readers.py:577\u001b[0m, in \u001b[0;36m_read\u001b[1;34m(filepath_or_buffer, kwds)\u001b[0m\n\u001b[0;32m    574\u001b[0m _validate_names(kwds\u001b[39m.\u001b[39mget(\u001b[39m\"\u001b[39m\u001b[39mnames\u001b[39m\u001b[39m\"\u001b[39m, \u001b[39mNone\u001b[39;00m))\n\u001b[0;32m    576\u001b[0m \u001b[39m# Create the parser.\u001b[39;00m\n\u001b[1;32m--> 577\u001b[0m parser \u001b[39m=\u001b[39m TextFileReader(filepath_or_buffer, \u001b[39m*\u001b[39m\u001b[39m*\u001b[39mkwds)\n\u001b[0;32m    579\u001b[0m \u001b[39mif\u001b[39;00m chunksize \u001b[39mor\u001b[39;00m iterator:\n\u001b[0;32m    580\u001b[0m     \u001b[39mreturn\u001b[39;00m parser\n",
      "File \u001b[1;32mc:\\Users\\11498\\miniconda3\\envs\\boost\\lib\\site-packages\\pandas\\io\\parsers\\readers.py:1407\u001b[0m, in \u001b[0;36mTextFileReader.__init__\u001b[1;34m(self, f, engine, **kwds)\u001b[0m\n\u001b[0;32m   1404\u001b[0m     \u001b[39mself\u001b[39m\u001b[39m.\u001b[39moptions[\u001b[39m\"\u001b[39m\u001b[39mhas_index_names\u001b[39m\u001b[39m\"\u001b[39m] \u001b[39m=\u001b[39m kwds[\u001b[39m\"\u001b[39m\u001b[39mhas_index_names\u001b[39m\u001b[39m\"\u001b[39m]\n\u001b[0;32m   1406\u001b[0m \u001b[39mself\u001b[39m\u001b[39m.\u001b[39mhandles: IOHandles \u001b[39m|\u001b[39m \u001b[39mNone\u001b[39;00m \u001b[39m=\u001b[39m \u001b[39mNone\u001b[39;00m\n\u001b[1;32m-> 1407\u001b[0m \u001b[39mself\u001b[39m\u001b[39m.\u001b[39m_engine \u001b[39m=\u001b[39m \u001b[39mself\u001b[39;49m\u001b[39m.\u001b[39;49m_make_engine(f, \u001b[39mself\u001b[39;49m\u001b[39m.\u001b[39;49mengine)\n",
      "File \u001b[1;32mc:\\Users\\11498\\miniconda3\\envs\\boost\\lib\\site-packages\\pandas\\io\\parsers\\readers.py:1661\u001b[0m, in \u001b[0;36mTextFileReader._make_engine\u001b[1;34m(self, f, engine)\u001b[0m\n\u001b[0;32m   1659\u001b[0m     \u001b[39mif\u001b[39;00m \u001b[39m\"\u001b[39m\u001b[39mb\u001b[39m\u001b[39m\"\u001b[39m \u001b[39mnot\u001b[39;00m \u001b[39min\u001b[39;00m mode:\n\u001b[0;32m   1660\u001b[0m         mode \u001b[39m+\u001b[39m\u001b[39m=\u001b[39m \u001b[39m\"\u001b[39m\u001b[39mb\u001b[39m\u001b[39m\"\u001b[39m\n\u001b[1;32m-> 1661\u001b[0m \u001b[39mself\u001b[39m\u001b[39m.\u001b[39mhandles \u001b[39m=\u001b[39m get_handle(\n\u001b[0;32m   1662\u001b[0m     f,\n\u001b[0;32m   1663\u001b[0m     mode,\n\u001b[0;32m   1664\u001b[0m     encoding\u001b[39m=\u001b[39;49m\u001b[39mself\u001b[39;49m\u001b[39m.\u001b[39;49moptions\u001b[39m.\u001b[39;49mget(\u001b[39m\"\u001b[39;49m\u001b[39mencoding\u001b[39;49m\u001b[39m\"\u001b[39;49m, \u001b[39mNone\u001b[39;49;00m),\n\u001b[0;32m   1665\u001b[0m     compression\u001b[39m=\u001b[39;49m\u001b[39mself\u001b[39;49m\u001b[39m.\u001b[39;49moptions\u001b[39m.\u001b[39;49mget(\u001b[39m\"\u001b[39;49m\u001b[39mcompression\u001b[39;49m\u001b[39m\"\u001b[39;49m, \u001b[39mNone\u001b[39;49;00m),\n\u001b[0;32m   1666\u001b[0m     memory_map\u001b[39m=\u001b[39;49m\u001b[39mself\u001b[39;49m\u001b[39m.\u001b[39;49moptions\u001b[39m.\u001b[39;49mget(\u001b[39m\"\u001b[39;49m\u001b[39mmemory_map\u001b[39;49m\u001b[39m\"\u001b[39;49m, \u001b[39mFalse\u001b[39;49;00m),\n\u001b[0;32m   1667\u001b[0m     is_text\u001b[39m=\u001b[39;49mis_text,\n\u001b[0;32m   1668\u001b[0m     errors\u001b[39m=\u001b[39;49m\u001b[39mself\u001b[39;49m\u001b[39m.\u001b[39;49moptions\u001b[39m.\u001b[39;49mget(\u001b[39m\"\u001b[39;49m\u001b[39mencoding_errors\u001b[39;49m\u001b[39m\"\u001b[39;49m, \u001b[39m\"\u001b[39;49m\u001b[39mstrict\u001b[39;49m\u001b[39m\"\u001b[39;49m),\n\u001b[0;32m   1669\u001b[0m     storage_options\u001b[39m=\u001b[39;49m\u001b[39mself\u001b[39;49m\u001b[39m.\u001b[39;49moptions\u001b[39m.\u001b[39;49mget(\u001b[39m\"\u001b[39;49m\u001b[39mstorage_options\u001b[39;49m\u001b[39m\"\u001b[39;49m, \u001b[39mNone\u001b[39;49;00m),\n\u001b[0;32m   1670\u001b[0m )\n\u001b[0;32m   1671\u001b[0m \u001b[39massert\u001b[39;00m \u001b[39mself\u001b[39m\u001b[39m.\u001b[39mhandles \u001b[39mis\u001b[39;00m \u001b[39mnot\u001b[39;00m \u001b[39mNone\u001b[39;00m\n\u001b[0;32m   1672\u001b[0m f \u001b[39m=\u001b[39m \u001b[39mself\u001b[39m\u001b[39m.\u001b[39mhandles\u001b[39m.\u001b[39mhandle\n",
      "File \u001b[1;32mc:\\Users\\11498\\miniconda3\\envs\\boost\\lib\\site-packages\\pandas\\io\\common.py:716\u001b[0m, in \u001b[0;36mget_handle\u001b[1;34m(path_or_buf, mode, encoding, compression, memory_map, is_text, errors, storage_options)\u001b[0m\n\u001b[0;32m    713\u001b[0m     codecs\u001b[39m.\u001b[39mlookup_error(errors)\n\u001b[0;32m    715\u001b[0m \u001b[39m# open URLs\u001b[39;00m\n\u001b[1;32m--> 716\u001b[0m ioargs \u001b[39m=\u001b[39m _get_filepath_or_buffer(\n\u001b[0;32m    717\u001b[0m     path_or_buf,\n\u001b[0;32m    718\u001b[0m     encoding\u001b[39m=\u001b[39;49mencoding,\n\u001b[0;32m    719\u001b[0m     compression\u001b[39m=\u001b[39;49mcompression,\n\u001b[0;32m    720\u001b[0m     mode\u001b[39m=\u001b[39;49mmode,\n\u001b[0;32m    721\u001b[0m     storage_options\u001b[39m=\u001b[39;49mstorage_options,\n\u001b[0;32m    722\u001b[0m )\n\u001b[0;32m    724\u001b[0m handle \u001b[39m=\u001b[39m ioargs\u001b[39m.\u001b[39mfilepath_or_buffer\n\u001b[0;32m    725\u001b[0m handles: \u001b[39mlist\u001b[39m[BaseBuffer]\n",
      "File \u001b[1;32mc:\\Users\\11498\\miniconda3\\envs\\boost\\lib\\site-packages\\pandas\\io\\common.py:368\u001b[0m, in \u001b[0;36m_get_filepath_or_buffer\u001b[1;34m(filepath_or_buffer, encoding, compression, mode, storage_options)\u001b[0m\n\u001b[0;32m    366\u001b[0m \u001b[39m# assuming storage_options is to be interpreted as headers\u001b[39;00m\n\u001b[0;32m    367\u001b[0m req_info \u001b[39m=\u001b[39m urllib\u001b[39m.\u001b[39mrequest\u001b[39m.\u001b[39mRequest(filepath_or_buffer, headers\u001b[39m=\u001b[39mstorage_options)\n\u001b[1;32m--> 368\u001b[0m \u001b[39mwith\u001b[39;00m urlopen(req_info) \u001b[39mas\u001b[39;00m req:\n\u001b[0;32m    369\u001b[0m     content_encoding \u001b[39m=\u001b[39m req\u001b[39m.\u001b[39mheaders\u001b[39m.\u001b[39mget(\u001b[39m\"\u001b[39m\u001b[39mContent-Encoding\u001b[39m\u001b[39m\"\u001b[39m, \u001b[39mNone\u001b[39;00m)\n\u001b[0;32m    370\u001b[0m     \u001b[39mif\u001b[39;00m content_encoding \u001b[39m==\u001b[39m \u001b[39m\"\u001b[39m\u001b[39mgzip\u001b[39m\u001b[39m\"\u001b[39m:\n\u001b[0;32m    371\u001b[0m         \u001b[39m# Override compression based on Content-Encoding header\u001b[39;00m\n",
      "File \u001b[1;32mc:\\Users\\11498\\miniconda3\\envs\\boost\\lib\\site-packages\\pandas\\io\\common.py:270\u001b[0m, in \u001b[0;36murlopen\u001b[1;34m(*args, **kwargs)\u001b[0m\n\u001b[0;32m    264\u001b[0m \u001b[39m\"\"\"\u001b[39;00m\n\u001b[0;32m    265\u001b[0m \u001b[39mLazy-import wrapper for stdlib urlopen, as that imports a big chunk of\u001b[39;00m\n\u001b[0;32m    266\u001b[0m \u001b[39mthe stdlib.\u001b[39;00m\n\u001b[0;32m    267\u001b[0m \u001b[39m\"\"\"\u001b[39;00m\n\u001b[0;32m    268\u001b[0m \u001b[39mimport\u001b[39;00m \u001b[39murllib\u001b[39;00m\u001b[39m.\u001b[39;00m\u001b[39mrequest\u001b[39;00m\n\u001b[1;32m--> 270\u001b[0m \u001b[39mreturn\u001b[39;00m urllib\u001b[39m.\u001b[39mrequest\u001b[39m.\u001b[39murlopen(\u001b[39m*\u001b[39margs, \u001b[39m*\u001b[39m\u001b[39m*\u001b[39mkwargs)\n",
      "File \u001b[1;32mc:\\Users\\11498\\miniconda3\\envs\\boost\\lib\\urllib\\request.py:214\u001b[0m, in \u001b[0;36murlopen\u001b[1;34m(url, data, timeout, cafile, capath, cadefault, context)\u001b[0m\n\u001b[0;32m    212\u001b[0m \u001b[39melse\u001b[39;00m:\n\u001b[0;32m    213\u001b[0m     opener \u001b[39m=\u001b[39m _opener\n\u001b[1;32m--> 214\u001b[0m \u001b[39mreturn\u001b[39;00m opener\u001b[39m.\u001b[39;49mopen(url, data, timeout)\n",
      "File \u001b[1;32mc:\\Users\\11498\\miniconda3\\envs\\boost\\lib\\urllib\\request.py:517\u001b[0m, in \u001b[0;36mOpenerDirector.open\u001b[1;34m(self, fullurl, data, timeout)\u001b[0m\n\u001b[0;32m    514\u001b[0m     req \u001b[39m=\u001b[39m meth(req)\n\u001b[0;32m    516\u001b[0m sys\u001b[39m.\u001b[39maudit(\u001b[39m'\u001b[39m\u001b[39murllib.Request\u001b[39m\u001b[39m'\u001b[39m, req\u001b[39m.\u001b[39mfull_url, req\u001b[39m.\u001b[39mdata, req\u001b[39m.\u001b[39mheaders, req\u001b[39m.\u001b[39mget_method())\n\u001b[1;32m--> 517\u001b[0m response \u001b[39m=\u001b[39m \u001b[39mself\u001b[39;49m\u001b[39m.\u001b[39;49m_open(req, data)\n\u001b[0;32m    519\u001b[0m \u001b[39m# post-process response\u001b[39;00m\n\u001b[0;32m    520\u001b[0m meth_name \u001b[39m=\u001b[39m protocol\u001b[39m+\u001b[39m\u001b[39m\"\u001b[39m\u001b[39m_response\u001b[39m\u001b[39m\"\u001b[39m\n",
      "File \u001b[1;32mc:\\Users\\11498\\miniconda3\\envs\\boost\\lib\\urllib\\request.py:534\u001b[0m, in \u001b[0;36mOpenerDirector._open\u001b[1;34m(self, req, data)\u001b[0m\n\u001b[0;32m    531\u001b[0m     \u001b[39mreturn\u001b[39;00m result\n\u001b[0;32m    533\u001b[0m protocol \u001b[39m=\u001b[39m req\u001b[39m.\u001b[39mtype\n\u001b[1;32m--> 534\u001b[0m result \u001b[39m=\u001b[39m \u001b[39mself\u001b[39;49m\u001b[39m.\u001b[39;49m_call_chain(\u001b[39mself\u001b[39;49m\u001b[39m.\u001b[39;49mhandle_open, protocol, protocol \u001b[39m+\u001b[39;49m\n\u001b[0;32m    535\u001b[0m                           \u001b[39m'\u001b[39;49m\u001b[39m_open\u001b[39;49m\u001b[39m'\u001b[39;49m, req)\n\u001b[0;32m    536\u001b[0m \u001b[39mif\u001b[39;00m result:\n\u001b[0;32m    537\u001b[0m     \u001b[39mreturn\u001b[39;00m result\n",
      "File \u001b[1;32mc:\\Users\\11498\\miniconda3\\envs\\boost\\lib\\urllib\\request.py:494\u001b[0m, in \u001b[0;36mOpenerDirector._call_chain\u001b[1;34m(self, chain, kind, meth_name, *args)\u001b[0m\n\u001b[0;32m    492\u001b[0m \u001b[39mfor\u001b[39;00m handler \u001b[39min\u001b[39;00m handlers:\n\u001b[0;32m    493\u001b[0m     func \u001b[39m=\u001b[39m \u001b[39mgetattr\u001b[39m(handler, meth_name)\n\u001b[1;32m--> 494\u001b[0m     result \u001b[39m=\u001b[39m func(\u001b[39m*\u001b[39;49margs)\n\u001b[0;32m    495\u001b[0m     \u001b[39mif\u001b[39;00m result \u001b[39mis\u001b[39;00m \u001b[39mnot\u001b[39;00m \u001b[39mNone\u001b[39;00m:\n\u001b[0;32m    496\u001b[0m         \u001b[39mreturn\u001b[39;00m result\n",
      "File \u001b[1;32mc:\\Users\\11498\\miniconda3\\envs\\boost\\lib\\urllib\\request.py:1389\u001b[0m, in \u001b[0;36mHTTPSHandler.https_open\u001b[1;34m(self, req)\u001b[0m\n\u001b[0;32m   1388\u001b[0m \u001b[39mdef\u001b[39;00m \u001b[39mhttps_open\u001b[39m(\u001b[39mself\u001b[39m, req):\n\u001b[1;32m-> 1389\u001b[0m     \u001b[39mreturn\u001b[39;00m \u001b[39mself\u001b[39;49m\u001b[39m.\u001b[39;49mdo_open(http\u001b[39m.\u001b[39;49mclient\u001b[39m.\u001b[39;49mHTTPSConnection, req,\n\u001b[0;32m   1390\u001b[0m         context\u001b[39m=\u001b[39;49m\u001b[39mself\u001b[39;49m\u001b[39m.\u001b[39;49m_context, check_hostname\u001b[39m=\u001b[39;49m\u001b[39mself\u001b[39;49m\u001b[39m.\u001b[39;49m_check_hostname)\n",
      "File \u001b[1;32mc:\\Users\\11498\\miniconda3\\envs\\boost\\lib\\urllib\\request.py:1349\u001b[0m, in \u001b[0;36mAbstractHTTPHandler.do_open\u001b[1;34m(self, http_class, req, **http_conn_args)\u001b[0m\n\u001b[0;32m   1346\u001b[0m         h\u001b[39m.\u001b[39mrequest(req\u001b[39m.\u001b[39mget_method(), req\u001b[39m.\u001b[39mselector, req\u001b[39m.\u001b[39mdata, headers,\n\u001b[0;32m   1347\u001b[0m                   encode_chunked\u001b[39m=\u001b[39mreq\u001b[39m.\u001b[39mhas_header(\u001b[39m'\u001b[39m\u001b[39mTransfer-encoding\u001b[39m\u001b[39m'\u001b[39m))\n\u001b[0;32m   1348\u001b[0m     \u001b[39mexcept\u001b[39;00m \u001b[39mOSError\u001b[39;00m \u001b[39mas\u001b[39;00m err: \u001b[39m# timeout error\u001b[39;00m\n\u001b[1;32m-> 1349\u001b[0m         \u001b[39mraise\u001b[39;00m URLError(err)\n\u001b[0;32m   1350\u001b[0m     r \u001b[39m=\u001b[39m h\u001b[39m.\u001b[39mgetresponse()\n\u001b[0;32m   1351\u001b[0m \u001b[39mexcept\u001b[39;00m:\n",
      "\u001b[1;31mURLError\u001b[0m: <urlopen error [Errno 11004] getaddrinfo failed>"
     ]
    }
   ],
   "source": [
    "\n",
    "\n",
    "np.random.seed(1)\n",
    "I_list = list(np.random.randint(0,3229,10))\n",
    "skiplist = set(range(1, 3229)) - set(I_list)\n",
    "locations = pd.read_csv('https://raw.githubusercontent.com/plotly/datasets/master/2014_us_cities.csv', skiprows=skiplist)\n",
    "\n",
    "scale = 5000\n",
    "fig = go.Figure()\n",
    "fig.add_trace(go.Scattergeo(\n",
    "        locationmode = 'USA-states',\n",
    "        lon = locations['lon'],\n",
    "        lat = locations['lat'],\n",
    "        text = locations['name'],\n",
    "        textfont = {\"color\": 'black',\n",
    "                    \"family\":'Times New Roman',\n",
    "                    \"size\":14},\n",
    "        textposition=\"top center\",\n",
    "        name = \"Candidate Facility\",\n",
    "        mode =\"markers+text\",\n",
    "        marker = dict(\n",
    "            size = 10,\n",
    "            color = \"black\",\n",
    "            line_color='black',\n",
    "            line_width=0.5,\n",
    "            sizemode = 'area')))\n",
    "\n",
    "\n",
    "\n",
    "#Workaround to get the arrow at the end of an edge AB\n",
    "\n",
    "l = 1.1  # the arrow length\n",
    "widh =0.035  #2*widh is the width of the arrow base as triangle\n",
    "for i in range(len(locations)-1):\n",
    "    fig.add_trace(go.Scattergeo(\n",
    "    lat = [locations['lat'][i], locations['lat'][i+1]], \n",
    "    lon = [locations['lon'][i], locations['lon'][i+1]],\n",
    "    mode = 'lines',\n",
    "    line = dict(width = 1.5, color = 'blue'),\n",
    "))\n",
    "    A = np.array([locations['lon'][i], locations['lat'][i]])\n",
    "    B = np.array([locations['lon'][i+1], locations['lat'][i+1]])\n",
    "    v = B-A\n",
    "    w = v/np.linalg.norm(v)     \n",
    "    u  =np.array([-v[1], v[0]])  #u orthogonal on  w\n",
    "            \n",
    "    P = B-l*w\n",
    "    S = P - widh*u\n",
    "    T = P + widh*u\n",
    "\n",
    "    fig.add_trace(go.Scattergeo(lon = [S[0], T[0], B[0], S[0]], \n",
    "                                lat =[S[1], T[1], B[1], S[1]], \n",
    "                                mode='lines', \n",
    "                                fill='toself', \n",
    "                                fillcolor='blue', \n",
    "                                line_color='blue'))\n",
    "#------Display your text at the middle of the segment AB\n",
    "fig.add_trace(go.Scattergeo(lon =[0.5*(A+B)[0]], lat = [0.5*(A+B)[1]], mode='text', text='               Your text'))\n",
    "\n",
    "fig.update_layout(width=900, height=750,\n",
    "        showlegend = False,\n",
    "        geo = dict(\n",
    "            scope = 'usa',\n",
    "            landcolor = 'rgb(217, 217, 217)'))"
   ]
  },
  {
   "cell_type": "code",
   "execution_count": 29,
   "metadata": {},
   "outputs": [
    {
     "data": {
      "text/html": [
       "<div>\n",
       "<style scoped>\n",
       "    .dataframe tbody tr th:only-of-type {\n",
       "        vertical-align: middle;\n",
       "    }\n",
       "\n",
       "    .dataframe tbody tr th {\n",
       "        vertical-align: top;\n",
       "    }\n",
       "\n",
       "    .dataframe thead th {\n",
       "        text-align: right;\n",
       "    }\n",
       "</style>\n",
       "<table border=\"1\" class=\"dataframe\">\n",
       "  <thead>\n",
       "    <tr style=\"text-align: right;\">\n",
       "      <th></th>\n",
       "      <th>name</th>\n",
       "      <th>pop</th>\n",
       "      <th>lat</th>\n",
       "      <th>lon</th>\n",
       "    </tr>\n",
       "  </thead>\n",
       "  <tbody>\n",
       "    <tr>\n",
       "      <th>0</th>\n",
       "      <td>Fort Lauderdale</td>\n",
       "      <td>169045</td>\n",
       "      <td>26.122308</td>\n",
       "      <td>-80.143379</td>\n",
       "    </tr>\n",
       "    <tr>\n",
       "      <th>1</th>\n",
       "      <td>Palmdale</td>\n",
       "      <td>154440</td>\n",
       "      <td>34.579313</td>\n",
       "      <td>-118.117111</td>\n",
       "    </tr>\n",
       "    <tr>\n",
       "      <th>2</th>\n",
       "      <td>West Jordan</td>\n",
       "      <td>106575</td>\n",
       "      <td>40.609670</td>\n",
       "      <td>-111.939103</td>\n",
       "    </tr>\n",
       "    <tr>\n",
       "      <th>3</th>\n",
       "      <td>Martinez</td>\n",
       "      <td>36552</td>\n",
       "      <td>38.019366</td>\n",
       "      <td>-122.134132</td>\n",
       "    </tr>\n",
       "    <tr>\n",
       "      <th>4</th>\n",
       "      <td>Hobbs</td>\n",
       "      <td>34384</td>\n",
       "      <td>32.702612</td>\n",
       "      <td>-103.136040</td>\n",
       "    </tr>\n",
       "    <tr>\n",
       "      <th>5</th>\n",
       "      <td>Alabaster</td>\n",
       "      <td>30653</td>\n",
       "      <td>33.215593</td>\n",
       "      <td>-86.797779</td>\n",
       "    </tr>\n",
       "    <tr>\n",
       "      <th>6</th>\n",
       "      <td>LaGrange</td>\n",
       "      <td>29863</td>\n",
       "      <td>41.637258</td>\n",
       "      <td>-85.421695</td>\n",
       "    </tr>\n",
       "    <tr>\n",
       "      <th>7</th>\n",
       "      <td>Glenwood village</td>\n",
       "      <td>9017</td>\n",
       "      <td>35.512097</td>\n",
       "      <td>-79.217799</td>\n",
       "    </tr>\n",
       "    <tr>\n",
       "      <th>8</th>\n",
       "      <td>Lapeer</td>\n",
       "      <td>8805</td>\n",
       "      <td>43.090476</td>\n",
       "      <td>-83.233371</td>\n",
       "    </tr>\n",
       "    <tr>\n",
       "      <th>9</th>\n",
       "      <td>North Logan</td>\n",
       "      <td>8386</td>\n",
       "      <td>41.769375</td>\n",
       "      <td>-111.804665</td>\n",
       "    </tr>\n",
       "  </tbody>\n",
       "</table>\n",
       "</div>"
      ],
      "text/plain": [
       "               name     pop        lat         lon\n",
       "0  Fort Lauderdale   169045  26.122308  -80.143379\n",
       "1         Palmdale   154440  34.579313 -118.117111\n",
       "2      West Jordan   106575  40.609670 -111.939103\n",
       "3         Martinez    36552  38.019366 -122.134132\n",
       "4            Hobbs    34384  32.702612 -103.136040\n",
       "5        Alabaster    30653  33.215593  -86.797779\n",
       "6         LaGrange    29863  41.637258  -85.421695\n",
       "7  Glenwood village    9017  35.512097  -79.217799\n",
       "8           Lapeer     8805  43.090476  -83.233371\n",
       "9      North Logan     8386  41.769375 -111.804665"
      ]
     },
     "execution_count": 29,
     "metadata": {},
     "output_type": "execute_result"
    }
   ],
   "source": [
    "locations"
   ]
  },
  {
   "cell_type": "code",
   "execution_count": 26,
   "metadata": {},
   "outputs": [
    {
     "data": {
      "application/vnd.plotly.v1+json": {
       "config": {
        "plotlyServerURL": "https://plot.ly"
       },
       "data": [
        {
         "colorscale": [
          [
           0,
           "rgb(247,251,255)"
          ],
          [
           0.125,
           "rgb(222,235,247)"
          ],
          [
           0.25,
           "rgb(198,219,239)"
          ],
          [
           0.375,
           "rgb(158,202,225)"
          ],
          [
           0.5,
           "rgb(107,174,214)"
          ],
          [
           0.625,
           "rgb(66,146,198)"
          ],
          [
           0.75,
           "rgb(33,113,181)"
          ],
          [
           0.875,
           "rgb(8,81,156)"
          ],
          [
           1,
           "rgb(8,48,107)"
          ]
         ],
         "geojson": "https://raw.githubusercontent.com/python-visualization/folium/master/examples/data/world-countries.json",
         "locations": [],
         "marker": {
          "line": {
           "width": 0
          },
          "opacity": 0.5
         },
         "type": "choroplethmapbox",
         "z": [],
         "zmax": 1,
         "zmin": 0
        }
       ],
       "frames": [
        {
         "data": [
          {
           "lat": [
            48.8566,
            48.8566
           ],
           "line": {
            "color": "blue",
            "width": 2
           },
           "lon": [
            2.3522,
            4.8952
           ],
           "mode": "lines",
           "type": "scattermapbox"
          }
         ]
        },
        {
         "data": [
          {
           "lat": [
            48.8566,
            48.8566,
            51.5074
           ],
           "line": {
            "color": "blue",
            "width": 2
           },
           "lon": [
            2.3522,
            4.8952,
            4.8952
           ],
           "mode": "lines",
           "type": "scattermapbox"
          }
         ]
        },
        {
         "data": [
          {
           "lat": [
            48.8566,
            48.8566,
            51.5074,
            51.5074
           ],
           "line": {
            "color": "blue",
            "width": 2
           },
           "lon": [
            2.3522,
            4.8952,
            4.8952,
            2.3522
           ],
           "mode": "lines",
           "type": "scattermapbox"
          }
         ]
        },
        {
         "data": [
          {
           "lat": [
            48.8566,
            48.8566,
            51.5074,
            51.5074,
            48.8566
           ],
           "line": {
            "color": "blue",
            "width": 2
           },
           "lon": [
            2.3522,
            4.8952,
            4.8952,
            2.3522,
            2.3522
           ],
           "mode": "lines",
           "type": "scattermapbox"
          }
         ]
        }
       ],
       "layout": {
        "height": 600,
        "mapbox": {
         "center": {
          "lat": 0,
          "lon": 0
         },
         "style": "carto-positron",
         "zoom": 1.5
        },
        "margin": {
         "b": 0,
         "l": 0,
         "r": 0,
         "t": 0
        },
        "template": {
         "data": {
          "candlestick": [
           {
            "decreasing": {
             "line": {
              "color": "#000033"
             }
            },
            "increasing": {
             "line": {
              "color": "#000032"
             }
            },
            "type": "candlestick"
           }
          ],
          "contour": [
           {
            "colorscale": [
             [
              0,
              "#000011"
             ],
             [
              0.1111111111111111,
              "#000012"
             ],
             [
              0.2222222222222222,
              "#000013"
             ],
             [
              0.3333333333333333,
              "#000014"
             ],
             [
              0.4444444444444444,
              "#000015"
             ],
             [
              0.5555555555555556,
              "#000016"
             ],
             [
              0.6666666666666666,
              "#000017"
             ],
             [
              0.7777777777777778,
              "#000018"
             ],
             [
              0.8888888888888888,
              "#000019"
             ],
             [
              1,
              "#000020"
             ]
            ],
            "type": "contour"
           }
          ],
          "contourcarpet": [
           {
            "colorscale": [
             [
              0,
              "#000011"
             ],
             [
              0.1111111111111111,
              "#000012"
             ],
             [
              0.2222222222222222,
              "#000013"
             ],
             [
              0.3333333333333333,
              "#000014"
             ],
             [
              0.4444444444444444,
              "#000015"
             ],
             [
              0.5555555555555556,
              "#000016"
             ],
             [
              0.6666666666666666,
              "#000017"
             ],
             [
              0.7777777777777778,
              "#000018"
             ],
             [
              0.8888888888888888,
              "#000019"
             ],
             [
              1,
              "#000020"
             ]
            ],
            "type": "contourcarpet"
           }
          ],
          "heatmap": [
           {
            "colorscale": [
             [
              0,
              "#000011"
             ],
             [
              0.1111111111111111,
              "#000012"
             ],
             [
              0.2222222222222222,
              "#000013"
             ],
             [
              0.3333333333333333,
              "#000014"
             ],
             [
              0.4444444444444444,
              "#000015"
             ],
             [
              0.5555555555555556,
              "#000016"
             ],
             [
              0.6666666666666666,
              "#000017"
             ],
             [
              0.7777777777777778,
              "#000018"
             ],
             [
              0.8888888888888888,
              "#000019"
             ],
             [
              1,
              "#000020"
             ]
            ],
            "type": "heatmap"
           }
          ],
          "histogram2d": [
           {
            "colorscale": [
             [
              0,
              "#000011"
             ],
             [
              0.1111111111111111,
              "#000012"
             ],
             [
              0.2222222222222222,
              "#000013"
             ],
             [
              0.3333333333333333,
              "#000014"
             ],
             [
              0.4444444444444444,
              "#000015"
             ],
             [
              0.5555555555555556,
              "#000016"
             ],
             [
              0.6666666666666666,
              "#000017"
             ],
             [
              0.7777777777777778,
              "#000018"
             ],
             [
              0.8888888888888888,
              "#000019"
             ],
             [
              1,
              "#000020"
             ]
            ],
            "type": "histogram2d"
           }
          ],
          "icicle": [
           {
            "textfont": {
             "color": "white"
            },
            "type": "icicle"
           }
          ],
          "sankey": [
           {
            "textfont": {
             "color": "#000036"
            },
            "type": "sankey"
           }
          ],
          "scatter": [
           {
            "marker": {
             "line": {
              "width": 0
             }
            },
            "type": "scatter"
           }
          ],
          "table": [
           {
            "cells": {
             "fill": {
              "color": "#000038"
             },
             "font": {
              "color": "#000037"
             },
             "line": {
              "color": "#000039"
             }
            },
            "header": {
             "fill": {
              "color": "#000040"
             },
             "font": {
              "color": "#000036"
             },
             "line": {
              "color": "#000039"
             }
            },
            "type": "table"
           }
          ],
          "waterfall": [
           {
            "connector": {
             "line": {
              "color": "#000036",
              "width": 2
             }
            },
            "decreasing": {
             "marker": {
              "color": "#000033"
             }
            },
            "increasing": {
             "marker": {
              "color": "#000032"
             }
            },
            "totals": {
             "marker": {
              "color": "#000034"
             }
            },
            "type": "waterfall"
           }
          ]
         },
         "layout": {
          "coloraxis": {
           "colorscale": [
            [
             0,
             "#000011"
            ],
            [
             0.1111111111111111,
             "#000012"
            ],
            [
             0.2222222222222222,
             "#000013"
            ],
            [
             0.3333333333333333,
             "#000014"
            ],
            [
             0.4444444444444444,
             "#000015"
            ],
            [
             0.5555555555555556,
             "#000016"
            ],
            [
             0.6666666666666666,
             "#000017"
            ],
            [
             0.7777777777777778,
             "#000018"
            ],
            [
             0.8888888888888888,
             "#000019"
            ],
            [
             1,
             "#000020"
            ]
           ]
          },
          "colorscale": {
           "diverging": [
            [
             0,
             "#000021"
            ],
            [
             0.1,
             "#000022"
            ],
            [
             0.2,
             "#000023"
            ],
            [
             0.3,
             "#000024"
            ],
            [
             0.4,
             "#000025"
            ],
            [
             0.5,
             "#000026"
            ],
            [
             0.6,
             "#000027"
            ],
            [
             0.7,
             "#000028"
            ],
            [
             0.8,
             "#000029"
            ],
            [
             0.9,
             "#000030"
            ],
            [
             1,
             "#000031"
            ]
           ],
           "sequential": [
            [
             0,
             "#000011"
            ],
            [
             0.1111111111111111,
             "#000012"
            ],
            [
             0.2222222222222222,
             "#000013"
            ],
            [
             0.3333333333333333,
             "#000014"
            ],
            [
             0.4444444444444444,
             "#000015"
            ],
            [
             0.5555555555555556,
             "#000016"
            ],
            [
             0.6666666666666666,
             "#000017"
            ],
            [
             0.7777777777777778,
             "#000018"
            ],
            [
             0.8888888888888888,
             "#000019"
            ],
            [
             1,
             "#000020"
            ]
           ],
           "sequentialminus": [
            [
             0,
             "#000011"
            ],
            [
             0.1111111111111111,
             "#000012"
            ],
            [
             0.2222222222222222,
             "#000013"
            ],
            [
             0.3333333333333333,
             "#000014"
            ],
            [
             0.4444444444444444,
             "#000015"
            ],
            [
             0.5555555555555556,
             "#000016"
            ],
            [
             0.6666666666666666,
             "#000017"
            ],
            [
             0.7777777777777778,
             "#000018"
            ],
            [
             0.8888888888888888,
             "#000019"
            ],
            [
             1,
             "#000020"
            ]
           ]
          },
          "colorway": [
           "#000001",
           "#000002",
           "#000003",
           "#000004",
           "#000005",
           "#000006",
           "#000007",
           "#000008",
           "#000009",
           "#000010"
          ]
         }
        },
        "updatemenus": [
         {
          "buttons": [
           {
            "args": [
             null,
             {
              "frame": {
               "duration": 1000,
               "redraw": true
              },
              "fromcurrent": true,
              "mode": "immediate",
              "suffix": " ",
              "transition": {
               "duration": 500
              }
             }
            ],
            "label": "播放",
            "method": "animate"
           }
          ],
          "pad": {
           "r": 10,
           "t": 87
          },
          "showactive": false,
          "type": "buttons",
          "x": 0.5,
          "xanchor": "right",
          "y": -0.1,
          "yanchor": "top"
         }
        ]
       }
      }
     },
     "metadata": {},
     "output_type": "display_data"
    }
   ],
   "source": [
    "import plotly.graph_objects as go\n",
    "\n",
    "# 创建地图图表对象\n",
    "fig = go.Figure()\n",
    "\n",
    "# 添加地图轮廓图层\n",
    "fig.add_trace(go.Choroplethmapbox(\n",
    "    geojson='https://raw.githubusercontent.com/python-visualization/folium/master/examples/data/world-countries.json',\n",
    "    locations=[],\n",
    "    z=[],\n",
    "    colorscale='Blues',\n",
    "    zmin=0,\n",
    "    zmax=1,\n",
    "    marker_opacity=0.5,\n",
    "    marker_line_width=0\n",
    "))\n",
    "\n",
    "# 设置地图布局参数\n",
    "fig.update_layout(\n",
    "    mapbox=dict(\n",
    "        style='carto-positron',\n",
    "        zoom=1.5,\n",
    "        center=dict(lat=0, lon=0),\n",
    "        layers=[]\n",
    "    ),\n",
    "    margin=dict(r=0, l=0, t=0, b=0),\n",
    "    height=600\n",
    ")\n",
    "\n",
    "lon = [2.3522, 4.8952, 4.8952, 2.3522, 2.3522]\n",
    "lat = [48.8566, 48.8566, 51.5074, 51.5074, 48.8566]\n",
    "\n",
    "# for i in range(len(lon)):\n",
    "    \n",
    "# l = 1.1  # the arrow length\n",
    "# widh =0.035  #2*widh is the width of the arrow base as triangle\n",
    "\n",
    "# A = np.array([locations['lon'][5], locations['lat'][5]])\n",
    "# B = np.array([locations['lon'][0], locations['lat'][0]])\n",
    "# v = B-A\n",
    "# w = v/np.linalg.norm(v)     \n",
    "# u  =np.array([-v[1], v[0]])  #u orthogonal on  w\n",
    "         \n",
    "# P = B-l*w\n",
    "# S = P - widh*u\n",
    "# T = P + widh*u\n",
    "\n",
    "# # 定义动画帧\n",
    "# frames = [go.Frame(\n",
    "#     data=[go.Scattermapbox(\n",
    "#         lon=[S[0], T[0], B[0], S[0]],\n",
    "#         lat=[S[1], T[1], B[1], S[1]],\n",
    "#         mode='lines',\n",
    "#         fill='toself',\n",
    "#         fillcolor='blue',\n",
    "#         line=dict(color='blue')\n",
    "#     )]\n",
    "# )]\n",
    "frames2 = [go.Frame(data=[go.Scattermapbox(\n",
    "    mode=\"lines\",\n",
    "    lon=lon[:i+1],\n",
    "    lat=lat[:i+1],\n",
    "    line=dict(width=2, color='blue'),\n",
    ")]) for i in range(1, len(lon))]\n",
    "\n",
    "# 添加动画帧到图表中\n",
    "fig.frames = frames2\n",
    "\n",
    "# 设置动画参数\n",
    "fig.update_layout(\n",
    "    updatemenus=[\n",
    "        dict(\n",
    "            buttons=[\n",
    "                dict(\n",
    "                    label=\"播放\",\n",
    "                    method=\"animate\",\n",
    "                    args=[\n",
    "                        None,\n",
    "                        dict(\n",
    "                            frame=dict(duration=1000, redraw=True),\n",
    "                            fromcurrent=True,\n",
    "                            transition=dict(duration=500),\n",
    "                            mode=\"immediate\",\n",
    "                            suffix=\" \"\n",
    "                        )\n",
    "                    ]\n",
    "                )\n",
    "            ],\n",
    "            x=0.5,\n",
    "            y=-0.1,\n",
    "            pad={\"r\": 10, \"t\": 87},\n",
    "            showactive=False,\n",
    "            type=\"buttons\",\n",
    "            xanchor=\"right\",\n",
    "            yanchor=\"top\"\n",
    "        )\n",
    "    ]\n",
    ")\n",
    "\n",
    "# 显示地图\n",
    "fig.show()"
   ]
  },
  {
   "cell_type": "code",
   "execution_count": 27,
   "metadata": {},
   "outputs": [
    {
     "data": {
      "text/plain": [
       "[Frame({\n",
       "     'data': [{'lat': [48.8566, 48.8566],\n",
       "               'line': {'color': 'blue', 'width': 2},\n",
       "               'lon': [2.3522, 4.8952],\n",
       "               'mode': 'lines',\n",
       "               'type': 'scattermapbox'}]\n",
       " }),\n",
       " Frame({\n",
       "     'data': [{'lat': [48.8566, 48.8566, 51.5074],\n",
       "               'line': {'color': 'blue', 'width': 2},\n",
       "               'lon': [2.3522, 4.8952, 4.8952],\n",
       "               'mode': 'lines',\n",
       "               'type': 'scattermapbox'}]\n",
       " }),\n",
       " Frame({\n",
       "     'data': [{'lat': [48.8566, 48.8566, 51.5074, 51.5074],\n",
       "               'line': {'color': 'blue', 'width': 2},\n",
       "               'lon': [2.3522, 4.8952, 4.8952, 2.3522],\n",
       "               'mode': 'lines',\n",
       "               'type': 'scattermapbox'}]\n",
       " }),\n",
       " Frame({\n",
       "     'data': [{'lat': [48.8566, 48.8566, 51.5074, 51.5074, 48.8566],\n",
       "               'line': {'color': 'blue', 'width': 2},\n",
       "               'lon': [2.3522, 4.8952, 4.8952, 2.3522, 2.3522],\n",
       "               'mode': 'lines',\n",
       "               'type': 'scattermapbox'}]\n",
       " })]"
      ]
     },
     "execution_count": 27,
     "metadata": {},
     "output_type": "execute_result"
    }
   ],
   "source": [
    "frames2"
   ]
  },
  {
   "cell_type": "code",
   "execution_count": 9,
   "metadata": {},
   "outputs": [],
   "source": [
    "import ipaddress\n",
    "\n",
    "test = '10.63.128.1'\n",
    "def is_reserved_ip(ip_address):\n",
    "    \n",
    "    ip = ipaddress.ip_address(ip_address)\n",
    "    return ip.is_private,ip\n"
   ]
  },
  {
   "cell_type": "code",
   "execution_count": 10,
   "metadata": {},
   "outputs": [
    {
     "data": {
      "text/plain": [
       "(True, IPv4Address('10.63.128.1'))"
      ]
     },
     "execution_count": 10,
     "metadata": {},
     "output_type": "execute_result"
    }
   ],
   "source": [
    "is_reserved_ip(test)"
   ]
  },
  {
   "cell_type": "code",
   "execution_count": 6,
   "metadata": {},
   "outputs": [],
   "source": [
    "import geofun"
   ]
  },
  {
   "cell_type": "code",
   "execution_count": 9,
   "metadata": {},
   "outputs": [
    {
     "data": {
      "application/vnd.plotly.v1+json": {
       "config": {
        "plotlyServerURL": "https://plot.ly"
       },
       "data": [
        {
         "hoverinfo": "text",
         "lat": [
          40.7128,
          40.7128,
          40.7128
         ],
         "lon": [
          -74.006,
          -74.006,
          -74.006
         ],
         "marker": {
          "color": "blue",
          "size": 10
         },
         "mode": "markers",
         "text": [
          "Point 1",
          "Point 2",
          "Point 3"
         ],
         "type": "scattermapbox"
        }
       ],
       "layout": {
        "mapbox": {
         "center": {
          "lat": 40.7128,
          "lon": -74.006
         },
         "zoom": 12
        },
        "showlegend": false,
        "template": {
         "data": {
          "candlestick": [
           {
            "decreasing": {
             "line": {
              "color": "#000033"
             }
            },
            "increasing": {
             "line": {
              "color": "#000032"
             }
            },
            "type": "candlestick"
           }
          ],
          "contour": [
           {
            "colorscale": [
             [
              0,
              "#000011"
             ],
             [
              0.1111111111111111,
              "#000012"
             ],
             [
              0.2222222222222222,
              "#000013"
             ],
             [
              0.3333333333333333,
              "#000014"
             ],
             [
              0.4444444444444444,
              "#000015"
             ],
             [
              0.5555555555555556,
              "#000016"
             ],
             [
              0.6666666666666666,
              "#000017"
             ],
             [
              0.7777777777777778,
              "#000018"
             ],
             [
              0.8888888888888888,
              "#000019"
             ],
             [
              1,
              "#000020"
             ]
            ],
            "type": "contour"
           }
          ],
          "contourcarpet": [
           {
            "colorscale": [
             [
              0,
              "#000011"
             ],
             [
              0.1111111111111111,
              "#000012"
             ],
             [
              0.2222222222222222,
              "#000013"
             ],
             [
              0.3333333333333333,
              "#000014"
             ],
             [
              0.4444444444444444,
              "#000015"
             ],
             [
              0.5555555555555556,
              "#000016"
             ],
             [
              0.6666666666666666,
              "#000017"
             ],
             [
              0.7777777777777778,
              "#000018"
             ],
             [
              0.8888888888888888,
              "#000019"
             ],
             [
              1,
              "#000020"
             ]
            ],
            "type": "contourcarpet"
           }
          ],
          "heatmap": [
           {
            "colorscale": [
             [
              0,
              "#000011"
             ],
             [
              0.1111111111111111,
              "#000012"
             ],
             [
              0.2222222222222222,
              "#000013"
             ],
             [
              0.3333333333333333,
              "#000014"
             ],
             [
              0.4444444444444444,
              "#000015"
             ],
             [
              0.5555555555555556,
              "#000016"
             ],
             [
              0.6666666666666666,
              "#000017"
             ],
             [
              0.7777777777777778,
              "#000018"
             ],
             [
              0.8888888888888888,
              "#000019"
             ],
             [
              1,
              "#000020"
             ]
            ],
            "type": "heatmap"
           }
          ],
          "histogram2d": [
           {
            "colorscale": [
             [
              0,
              "#000011"
             ],
             [
              0.1111111111111111,
              "#000012"
             ],
             [
              0.2222222222222222,
              "#000013"
             ],
             [
              0.3333333333333333,
              "#000014"
             ],
             [
              0.4444444444444444,
              "#000015"
             ],
             [
              0.5555555555555556,
              "#000016"
             ],
             [
              0.6666666666666666,
              "#000017"
             ],
             [
              0.7777777777777778,
              "#000018"
             ],
             [
              0.8888888888888888,
              "#000019"
             ],
             [
              1,
              "#000020"
             ]
            ],
            "type": "histogram2d"
           }
          ],
          "icicle": [
           {
            "textfont": {
             "color": "white"
            },
            "type": "icicle"
           }
          ],
          "sankey": [
           {
            "textfont": {
             "color": "#000036"
            },
            "type": "sankey"
           }
          ],
          "scatter": [
           {
            "marker": {
             "line": {
              "width": 0
             }
            },
            "type": "scatter"
           }
          ],
          "table": [
           {
            "cells": {
             "fill": {
              "color": "#000038"
             },
             "font": {
              "color": "#000037"
             },
             "line": {
              "color": "#000039"
             }
            },
            "header": {
             "fill": {
              "color": "#000040"
             },
             "font": {
              "color": "#000036"
             },
             "line": {
              "color": "#000039"
             }
            },
            "type": "table"
           }
          ],
          "waterfall": [
           {
            "connector": {
             "line": {
              "color": "#000036",
              "width": 2
             }
            },
            "decreasing": {
             "marker": {
              "color": "#000033"
             }
            },
            "increasing": {
             "marker": {
              "color": "#000032"
             }
            },
            "totals": {
             "marker": {
              "color": "#000034"
             }
            },
            "type": "waterfall"
           }
          ]
         },
         "layout": {
          "coloraxis": {
           "colorscale": [
            [
             0,
             "#000011"
            ],
            [
             0.1111111111111111,
             "#000012"
            ],
            [
             0.2222222222222222,
             "#000013"
            ],
            [
             0.3333333333333333,
             "#000014"
            ],
            [
             0.4444444444444444,
             "#000015"
            ],
            [
             0.5555555555555556,
             "#000016"
            ],
            [
             0.6666666666666666,
             "#000017"
            ],
            [
             0.7777777777777778,
             "#000018"
            ],
            [
             0.8888888888888888,
             "#000019"
            ],
            [
             1,
             "#000020"
            ]
           ]
          },
          "colorscale": {
           "diverging": [
            [
             0,
             "#000021"
            ],
            [
             0.1,
             "#000022"
            ],
            [
             0.2,
             "#000023"
            ],
            [
             0.3,
             "#000024"
            ],
            [
             0.4,
             "#000025"
            ],
            [
             0.5,
             "#000026"
            ],
            [
             0.6,
             "#000027"
            ],
            [
             0.7,
             "#000028"
            ],
            [
             0.8,
             "#000029"
            ],
            [
             0.9,
             "#000030"
            ],
            [
             1,
             "#000031"
            ]
           ],
           "sequential": [
            [
             0,
             "#000011"
            ],
            [
             0.1111111111111111,
             "#000012"
            ],
            [
             0.2222222222222222,
             "#000013"
            ],
            [
             0.3333333333333333,
             "#000014"
            ],
            [
             0.4444444444444444,
             "#000015"
            ],
            [
             0.5555555555555556,
             "#000016"
            ],
            [
             0.6666666666666666,
             "#000017"
            ],
            [
             0.7777777777777778,
             "#000018"
            ],
            [
             0.8888888888888888,
             "#000019"
            ],
            [
             1,
             "#000020"
            ]
           ],
           "sequentialminus": [
            [
             0,
             "#000011"
            ],
            [
             0.1111111111111111,
             "#000012"
            ],
            [
             0.2222222222222222,
             "#000013"
            ],
            [
             0.3333333333333333,
             "#000014"
            ],
            [
             0.4444444444444444,
             "#000015"
            ],
            [
             0.5555555555555556,
             "#000016"
            ],
            [
             0.6666666666666666,
             "#000017"
            ],
            [
             0.7777777777777778,
             "#000018"
            ],
            [
             0.8888888888888888,
             "#000019"
            ],
            [
             1,
             "#000020"
            ]
           ]
          },
          "colorway": [
           "#000001",
           "#000002",
           "#000003",
           "#000004",
           "#000005",
           "#000006",
           "#000007",
           "#000008",
           "#000009",
           "#000010"
          ]
         }
        }
       }
      }
     },
     "metadata": {},
     "output_type": "display_data"
    }
   ],
   "source": [
    "import plotly.graph_objects as go\n",
    "\n",
    "# 创建地图的中心点坐标\n",
    "center_lat = 40.7128\n",
    "center_lon = -74.0060\n",
    "\n",
    "# 创建 Scattermapbox 图表对象\n",
    "fig = go.Figure(go.Scattermapbox(\n",
    "    lat=[40.7128, 40.7128, 40.7128],  # 点的纬度\n",
    "    lon=[-74.0060, -74.0060, -74.0060],  # 点的经度\n",
    "    mode='markers',  # 模式设置为 markers\n",
    "    marker=dict(\n",
    "        size=10,  # 点的大小\n",
    "        color='blue'  # 点的颜色\n",
    "    ),\n",
    "    text=['Point 1', 'Point 2', 'Point 3'],  # 点旁边的文字\n",
    "    hoverinfo='text'  # 设置悬停时显示的信息为文字\n",
    "))\n",
    "\n",
    "\n"
   ]
  },
  {
   "cell_type": "code",
   "execution_count": 65,
   "metadata": {},
   "outputs": [],
   "source": [
    "coordinates = [\n",
    "    {'latitude': 40.7128, 'longitude': -74.0060},\n",
    "    {'latitude': 52.5200, 'longitude': 13.4050},\n",
    "    {'latitude': 35.6895, 'longitude': 139.6917}\n",
    "]\n",
    "\n",
    "# 将列表转换为 DataFrame\n",
    "df = pd.DataFrame(coordinates)"
   ]
  },
  {
   "cell_type": "code",
   "execution_count": 62,
   "metadata": {},
   "outputs": [],
   "source": [
    "from geofun import draw_map as dm"
   ]
  },
  {
   "cell_type": "code",
   "execution_count": 67,
   "metadata": {},
   "outputs": [
    {
     "ename": "ValueError",
     "evalue": "Invalid property specified for object of type plotly.graph_objs.layout.mapbox.Center: 'latitude'\n\nDid you mean \"lat\"?\n\n    Valid properties:\n        lat\n            Sets the latitude of the center of the map (in degrees\n            North).\n        lon\n            Sets the longitude of the center of the map (in degrees\n            East).\n        \nDid you mean \"lat\"?\n\nBad property path:\nlatitude\n^^^^^^^^",
     "output_type": "error",
     "traceback": [
      "\u001b[1;31m---------------------------------------------------------------------------\u001b[0m",
      "\u001b[1;31mValueError\u001b[0m                                Traceback (most recent call last)",
      "\u001b[1;32mf:\\大三下\\network\\final\\test_ip.ipynb Cell 14\u001b[0m in \u001b[0;36m<cell line: 1>\u001b[1;34m()\u001b[0m\n\u001b[1;32m----> <a href='vscode-notebook-cell:/f%3A/%E5%A4%A7%E4%B8%89%E4%B8%8B/network/final/test_ip.ipynb#X25sZmlsZQ%3D%3D?line=0'>1</a>\u001b[0m dm(df)\n",
      "File \u001b[1;32mf:\\大三下\\network\\final\\geofun.py:66\u001b[0m, in \u001b[0;36mdraw_map\u001b[1;34m(locations)\u001b[0m\n\u001b[0;32m     54\u001b[0m fig\u001b[39m.\u001b[39madd_trace(go\u001b[39m.\u001b[39mChoroplethmapbox(\n\u001b[0;32m     55\u001b[0m     geojson\u001b[39m=\u001b[39m\u001b[39m'\u001b[39m\u001b[39mhttps://raw.githubusercontent.com/python-visualization/folium/master/examples/data/world-countries.json\u001b[39m\u001b[39m'\u001b[39m,\n\u001b[0;32m     56\u001b[0m     locations\u001b[39m=\u001b[39m[],\n\u001b[1;32m   (...)\u001b[0m\n\u001b[0;32m     62\u001b[0m     marker_line_width\u001b[39m=\u001b[39m\u001b[39m0\u001b[39m\n\u001b[0;32m     63\u001b[0m ))\n\u001b[0;32m     65\u001b[0m \u001b[39m# 设置地图布局参数\u001b[39;00m\n\u001b[1;32m---> 66\u001b[0m fig\u001b[39m.\u001b[39;49mupdate_layout(\n\u001b[0;32m     67\u001b[0m     mapbox\u001b[39m=\u001b[39;49m\u001b[39mdict\u001b[39;49m(\n\u001b[0;32m     68\u001b[0m         style\u001b[39m=\u001b[39;49m\u001b[39m'\u001b[39;49m\u001b[39mcarto-positron\u001b[39;49m\u001b[39m'\u001b[39;49m,\n\u001b[0;32m     69\u001b[0m         zoom\u001b[39m=\u001b[39;49m\u001b[39m1.5\u001b[39;49m,\n\u001b[0;32m     70\u001b[0m         center\u001b[39m=\u001b[39;49m\u001b[39mdict\u001b[39;49m(latitude\u001b[39m=\u001b[39;49m\u001b[39m0\u001b[39;49m, longitude\u001b[39m=\u001b[39;49m\u001b[39m0\u001b[39;49m),\n\u001b[0;32m     71\u001b[0m         layers\u001b[39m=\u001b[39;49m[]\n\u001b[0;32m     72\u001b[0m     ),\n\u001b[0;32m     73\u001b[0m     margin\u001b[39m=\u001b[39;49m\u001b[39mdict\u001b[39;49m(r\u001b[39m=\u001b[39;49m\u001b[39m0\u001b[39;49m, l\u001b[39m=\u001b[39;49m\u001b[39m0\u001b[39;49m, t\u001b[39m=\u001b[39;49m\u001b[39m0\u001b[39;49m, b\u001b[39m=\u001b[39;49m\u001b[39m0\u001b[39;49m),\n\u001b[0;32m     74\u001b[0m     height\u001b[39m=\u001b[39;49m\u001b[39m600\u001b[39;49m\n\u001b[0;32m     75\u001b[0m )\n\u001b[0;32m     80\u001b[0m l \u001b[39m=\u001b[39m \u001b[39m3\u001b[39m  \u001b[39m# the arrow length\u001b[39;00m\n\u001b[0;32m     81\u001b[0m widh \u001b[39m=\u001b[39m\u001b[39m0.01\u001b[39m \u001b[39m#2*widh is the width of the arrow base as triangle\u001b[39;00m\n",
      "File \u001b[1;32mc:\\Users\\11498\\miniconda3\\envs\\boost\\lib\\site-packages\\plotly\\graph_objs\\_figure.py:762\u001b[0m, in \u001b[0;36mFigure.update_layout\u001b[1;34m(self, dict1, overwrite, **kwargs)\u001b[0m\n\u001b[0;32m    736\u001b[0m \u001b[39mdef\u001b[39;00m \u001b[39mupdate_layout\u001b[39m(\u001b[39mself\u001b[39m, dict1\u001b[39m=\u001b[39m\u001b[39mNone\u001b[39;00m, overwrite\u001b[39m=\u001b[39m\u001b[39mFalse\u001b[39;00m, \u001b[39m*\u001b[39m\u001b[39m*\u001b[39mkwargs) \u001b[39m-\u001b[39m\u001b[39m>\u001b[39m \u001b[39m\"\u001b[39m\u001b[39mFigure\u001b[39m\u001b[39m\"\u001b[39m:\n\u001b[0;32m    737\u001b[0m     \u001b[39m\"\"\"\u001b[39;00m\n\u001b[0;32m    738\u001b[0m \n\u001b[0;32m    739\u001b[0m \u001b[39m    Update the properties of the figure's layout with a dict and/or with\u001b[39;00m\n\u001b[1;32m   (...)\u001b[0m\n\u001b[0;32m    760\u001b[0m \n\u001b[0;32m    761\u001b[0m \u001b[39m    \"\"\"\u001b[39;00m\n\u001b[1;32m--> 762\u001b[0m     \u001b[39mreturn\u001b[39;00m \u001b[39msuper\u001b[39m(Figure, \u001b[39mself\u001b[39m)\u001b[39m.\u001b[39mupdate_layout(dict1, overwrite, \u001b[39m*\u001b[39m\u001b[39m*\u001b[39mkwargs)\n",
      "File \u001b[1;32mc:\\Users\\11498\\miniconda3\\envs\\boost\\lib\\site-packages\\plotly\\basedatatypes.py:1401\u001b[0m, in \u001b[0;36mBaseFigure.update_layout\u001b[1;34m(self, dict1, overwrite, **kwargs)\u001b[0m\n\u001b[0;32m   1377\u001b[0m \u001b[39mdef\u001b[39;00m \u001b[39mupdate_layout\u001b[39m(\u001b[39mself\u001b[39m, dict1\u001b[39m=\u001b[39m\u001b[39mNone\u001b[39;00m, overwrite\u001b[39m=\u001b[39m\u001b[39mFalse\u001b[39;00m, \u001b[39m*\u001b[39m\u001b[39m*\u001b[39mkwargs):\n\u001b[0;32m   1378\u001b[0m     \u001b[39m\"\"\"\u001b[39;00m\n\u001b[0;32m   1379\u001b[0m \u001b[39m    Update the properties of the figure's layout with a dict and/or with\u001b[39;00m\n\u001b[0;32m   1380\u001b[0m \u001b[39m    keyword arguments.\u001b[39;00m\n\u001b[1;32m   (...)\u001b[0m\n\u001b[0;32m   1399\u001b[0m \u001b[39m        The Figure object that the update_layout method was called on\u001b[39;00m\n\u001b[0;32m   1400\u001b[0m \u001b[39m    \"\"\"\u001b[39;00m\n\u001b[1;32m-> 1401\u001b[0m     \u001b[39mself\u001b[39m\u001b[39m.\u001b[39mlayout\u001b[39m.\u001b[39mupdate(dict1, overwrite\u001b[39m=\u001b[39moverwrite, \u001b[39m*\u001b[39m\u001b[39m*\u001b[39mkwargs)\n\u001b[0;32m   1402\u001b[0m     \u001b[39mreturn\u001b[39;00m \u001b[39mself\u001b[39m\n",
      "File \u001b[1;32mc:\\Users\\11498\\miniconda3\\envs\\boost\\lib\\site-packages\\plotly\\basedatatypes.py:5122\u001b[0m, in \u001b[0;36mBasePlotlyType.update\u001b[1;34m(self, dict1, overwrite, **kwargs)\u001b[0m\n\u001b[0;32m   5120\u001b[0m     \u001b[39mwith\u001b[39;00m \u001b[39mself\u001b[39m\u001b[39m.\u001b[39mfigure\u001b[39m.\u001b[39mbatch_update():\n\u001b[0;32m   5121\u001b[0m         BaseFigure\u001b[39m.\u001b[39m_perform_update(\u001b[39mself\u001b[39m, dict1, overwrite\u001b[39m=\u001b[39moverwrite)\n\u001b[1;32m-> 5122\u001b[0m         BaseFigure\u001b[39m.\u001b[39;49m_perform_update(\u001b[39mself\u001b[39;49m, kwargs, overwrite\u001b[39m=\u001b[39;49moverwrite)\n\u001b[0;32m   5123\u001b[0m \u001b[39melse\u001b[39;00m:\n\u001b[0;32m   5124\u001b[0m     BaseFigure\u001b[39m.\u001b[39m_perform_update(\u001b[39mself\u001b[39m, dict1, overwrite\u001b[39m=\u001b[39moverwrite)\n",
      "File \u001b[1;32mc:\\Users\\11498\\miniconda3\\envs\\boost\\lib\\site-packages\\plotly\\basedatatypes.py:3908\u001b[0m, in \u001b[0;36mBaseFigure._perform_update\u001b[1;34m(plotly_obj, update_obj, overwrite)\u001b[0m\n\u001b[0;32m   3902\u001b[0m validator \u001b[39m=\u001b[39m plotly_obj\u001b[39m.\u001b[39m_get_prop_validator(key)\n\u001b[0;32m   3904\u001b[0m \u001b[39mif\u001b[39;00m \u001b[39misinstance\u001b[39m(validator, CompoundValidator) \u001b[39mand\u001b[39;00m \u001b[39misinstance\u001b[39m(val, \u001b[39mdict\u001b[39m):\n\u001b[0;32m   3905\u001b[0m \n\u001b[0;32m   3906\u001b[0m     \u001b[39m# Update compound objects recursively\u001b[39;00m\n\u001b[0;32m   3907\u001b[0m     \u001b[39m# plotly_obj[key].update(val)\u001b[39;00m\n\u001b[1;32m-> 3908\u001b[0m     BaseFigure\u001b[39m.\u001b[39;49m_perform_update(plotly_obj[key], val)\n\u001b[0;32m   3909\u001b[0m \u001b[39melif\u001b[39;00m \u001b[39misinstance\u001b[39m(validator, CompoundArrayValidator):\n\u001b[0;32m   3910\u001b[0m     \u001b[39mif\u001b[39;00m plotly_obj[key]:\n\u001b[0;32m   3911\u001b[0m         \u001b[39m# plotly_obj has an existing non-empty array for key\u001b[39;00m\n\u001b[0;32m   3912\u001b[0m         \u001b[39m# In this case we merge val into the existing elements\u001b[39;00m\n",
      "File \u001b[1;32mc:\\Users\\11498\\miniconda3\\envs\\boost\\lib\\site-packages\\plotly\\basedatatypes.py:3908\u001b[0m, in \u001b[0;36mBaseFigure._perform_update\u001b[1;34m(plotly_obj, update_obj, overwrite)\u001b[0m\n\u001b[0;32m   3902\u001b[0m validator \u001b[39m=\u001b[39m plotly_obj\u001b[39m.\u001b[39m_get_prop_validator(key)\n\u001b[0;32m   3904\u001b[0m \u001b[39mif\u001b[39;00m \u001b[39misinstance\u001b[39m(validator, CompoundValidator) \u001b[39mand\u001b[39;00m \u001b[39misinstance\u001b[39m(val, \u001b[39mdict\u001b[39m):\n\u001b[0;32m   3905\u001b[0m \n\u001b[0;32m   3906\u001b[0m     \u001b[39m# Update compound objects recursively\u001b[39;00m\n\u001b[0;32m   3907\u001b[0m     \u001b[39m# plotly_obj[key].update(val)\u001b[39;00m\n\u001b[1;32m-> 3908\u001b[0m     BaseFigure\u001b[39m.\u001b[39;49m_perform_update(plotly_obj[key], val)\n\u001b[0;32m   3909\u001b[0m \u001b[39melif\u001b[39;00m \u001b[39misinstance\u001b[39m(validator, CompoundArrayValidator):\n\u001b[0;32m   3910\u001b[0m     \u001b[39mif\u001b[39;00m plotly_obj[key]:\n\u001b[0;32m   3911\u001b[0m         \u001b[39m# plotly_obj has an existing non-empty array for key\u001b[39;00m\n\u001b[0;32m   3912\u001b[0m         \u001b[39m# In this case we merge val into the existing elements\u001b[39;00m\n",
      "File \u001b[1;32mc:\\Users\\11498\\miniconda3\\envs\\boost\\lib\\site-packages\\plotly\\basedatatypes.py:3885\u001b[0m, in \u001b[0;36mBaseFigure._perform_update\u001b[1;34m(plotly_obj, update_obj, overwrite)\u001b[0m\n\u001b[0;32m   3881\u001b[0m                 \u001b[39mcontinue\u001b[39;00m\n\u001b[0;32m   3882\u001b[0m         \u001b[39m# If no match, raise the error, which should already\u001b[39;00m\n\u001b[0;32m   3883\u001b[0m         \u001b[39m# contain the _raise_on_invalid_property_error\u001b[39;00m\n\u001b[0;32m   3884\u001b[0m         \u001b[39m# generated message\u001b[39;00m\n\u001b[1;32m-> 3885\u001b[0m         \u001b[39mraise\u001b[39;00m err\n\u001b[0;32m   3887\u001b[0m \u001b[39m# Convert update_obj to dict\u001b[39;00m\n\u001b[0;32m   3888\u001b[0m \u001b[39m# --------------------------\u001b[39;00m\n\u001b[0;32m   3889\u001b[0m \u001b[39mif\u001b[39;00m \u001b[39misinstance\u001b[39m(update_obj, BasePlotlyType):\n",
      "\u001b[1;31mValueError\u001b[0m: Invalid property specified for object of type plotly.graph_objs.layout.mapbox.Center: 'latitude'\n\nDid you mean \"lat\"?\n\n    Valid properties:\n        lat\n            Sets the latitude of the center of the map (in degrees\n            North).\n        lon\n            Sets the longitude of the center of the map (in degrees\n            East).\n        \nDid you mean \"lat\"?\n\nBad property path:\nlatitude\n^^^^^^^^"
     ]
    }
   ],
   "source": [
    "dm(df)"
   ]
  },
  {
   "cell_type": "code",
   "execution_count": 33,
   "metadata": {},
   "outputs": [],
   "source": [
    "def draw_map(locations:pd.DataFrame):\n",
    "# 创建地图图表对象\n",
    "    fig = go.Figure()\n",
    "\n",
    "    # 添加地图轮廓图层\n",
    "    fig.add_trace(go.Choroplethmapbox(\n",
    "        geojson='https://raw.githubusercontent.com/python-visualization/folium/master/examples/data/world-countries.json',\n",
    "        locations=[],\n",
    "        z=[],\n",
    "        colorscale='Blues',\n",
    "        zmin=0,\n",
    "        zmax=1,\n",
    "        marker_opacity=0.5,\n",
    "        marker_line_width=0\n",
    "    ))\n",
    "\n",
    "    # 设置地图布局参数\n",
    "    fig.update_layout(\n",
    "        mapbox=dict(\n",
    "            style='carto-positron',\n",
    "            zoom=1.5,\n",
    "            center=dict(lat=0, lon=0),\n",
    "            layers=[]\n",
    "        ),\n",
    "        margin=dict(r=0, l=0, t=0, b=0),\n",
    "        height=600\n",
    "    )\n",
    "\n",
    "\n",
    "\n",
    "\n",
    "    l = 1.1  # the arrow length\n",
    "    widh =0.035  #2*widh is the width of the arrow base as triangle\n",
    "    frames = []\n",
    "    frame_data = []\n",
    "    for i in range(len(locations)-1):\n",
    "        \n",
    "        data=[go.Scattermapbox(\n",
    "            lat=[locations['lat'][i]],  # 点的纬度\n",
    "            lon=[locations['lon'][i]],  # 点的经度\n",
    "            mode='markers',  # 模式设置为 markers\n",
    "            marker=dict(\n",
    "                size=20,  # 点的大小\n",
    "                color='green'  # 点的颜色\n",
    "            ),\n",
    "        )]\n",
    "        frame_data.extend(data)\n",
    "        frames.append(go.Frame(data=frame_data))\n",
    "        # \n",
    "        # fig.add_trace(go.Scattermapbox(\n",
    "        #     lat=[locations['lat'][i]],  # 点的纬度\n",
    "        #     lon=[locations['lon'][i]],  # 点的经度\n",
    "        #     mode='markers',  # 模式设置为 markers\n",
    "        #     marker=dict(\n",
    "        #         size=20,  # 点的大小\n",
    "        #         color='green'  # 点的颜色\n",
    "        #     ),\n",
    "            # text=['Point 1', 'Point 2', 'Point 3'],  # 点旁边的文字\n",
    "            # hoverinfo='text'  # 设置悬停时显示的信息为文字\n",
    "        # ))\n",
    "        \n",
    "        data=[\n",
    "            go.Scattermapbox(\n",
    "            lat = [locations['lat'][i], locations['lat'][i+1]], \n",
    "            lon = [locations['lon'][i], locations['lon'][i+1]],\n",
    "            mode = 'lines',\n",
    "            line = dict(width = 1.5, color = 'blue'),\n",
    "            ) \n",
    "        ]\n",
    "        frame_data.extend(data)\n",
    "        frames.append(go.Frame(data=frame_data))\n",
    "\n",
    "    #     fig.add_trace(go.Scattermapbox(\n",
    "    #     lat = [locations['lat'][i], locations['lat'][i+1]], \n",
    "    #     lon = [locations['lon'][i], locations['lon'][i+1]],\n",
    "    #     mode = 'lines',\n",
    "    #     line = dict(width = 1.5, color = 'blue'),\n",
    "    # ))\n",
    "        \n",
    "\n",
    "        A = np.array([locations['lon'][i], locations['lat'][i]])\n",
    "        B = np.array([locations['lon'][i+1], locations['lat'][i+1]])\n",
    "        v = B-A\n",
    "        w = v/np.linalg.norm(v)     \n",
    "        u  =np.array([-v[1], v[0]])  #u orthogonal on  w\n",
    "                \n",
    "        P = B-l*w\n",
    "        S = P - widh*u\n",
    "        T = P + widh*u\n",
    "        \n",
    "        \n",
    "        data=[\n",
    "            go.Scattermapbox(lon = [S[0], T[0], B[0], S[0]], \n",
    "                                lat =[S[1], T[1], B[1], S[1]], \n",
    "                                mode='lines', \n",
    "                                fill='toself', \n",
    "                                fillcolor='yellow', \n",
    "                                line_color='yellow')\n",
    "        ]\n",
    "            \n",
    "        frame_data.extend(data)\n",
    "        frames.append(go.Frame(data=frame_data))\n",
    "\n",
    "        # fig.add_trace(go.Scattermapbox(lon = [S[0], T[0], B[0], S[0]], \n",
    "        #                             lat =[S[1], T[1], B[1], S[1]], \n",
    "        #                             mode='lines', \n",
    "        #                             fill='toself', \n",
    "        #                             fillcolor='yellow', \n",
    "    print(frames)\n",
    "    # print(len(frames))\n",
    "    fig.frames = frames\n",
    "\n",
    "# 设置动画参数\n",
    "    fig.update_layout(\n",
    "        updatemenus=[\n",
    "            dict(\n",
    "                buttons=[\n",
    "                    dict(\n",
    "                        label=\"播放\",\n",
    "                        method=\"animate\",\n",
    "                        args=[\n",
    "                            None,\n",
    "                            dict(\n",
    "                                frame=dict(duration=1000, redraw=True),\n",
    "                                fromcurrent=True,\n",
    "                                transition=dict(duration=500),\n",
    "                                mode=\"immediate\",\n",
    "                                suffix=\" \"\n",
    "                            )\n",
    "                        ]\n",
    "                    )\n",
    "                ],\n",
    "                x=0.5,\n",
    "                y=-0.1,\n",
    "                pad={\"r\": 10, \"t\": 87},\n",
    "                showactive=True,\n",
    "                type=\"buttons\",\n",
    "                xanchor=\"right\",\n",
    "                yanchor=\"top\"\n",
    "            )\n",
    "        ]\n",
    "    )    #                             line_color='yellow'))\n",
    "    fig.show()"
   ]
  },
  {
   "cell_type": "code",
   "execution_count": 38,
   "metadata": {},
   "outputs": [],
   "source": [
    "def draw_map(locations:pd.DataFrame):\n",
    "# 创建地图图表对象\n",
    "    fig = go.Figure()\n",
    "\n",
    "    # 添加地图轮廓图层\n",
    "    fig.add_trace(go.Choroplethmapbox(\n",
    "        geojson='https://raw.githubusercontent.com/python-visualization/folium/master/examples/data/world-countries.json',\n",
    "        locations=[],\n",
    "        z=[],\n",
    "        colorscale='Blues',\n",
    "        zmin=0,\n",
    "        zmax=1,\n",
    "        marker_opacity=0.5,\n",
    "        marker_line_width=0\n",
    "    ))\n",
    "\n",
    "    # 设置地图布局参数\n",
    "    fig.update_layout(\n",
    "        mapbox=dict(\n",
    "            style='carto-positron',\n",
    "            zoom=1.5,\n",
    "            center=dict(lat=0, lon=0),\n",
    "            layers=[]\n",
    "        ),\n",
    "        margin=dict(r=0, l=0, t=0, b=0),\n",
    "        height=600\n",
    "    )\n",
    "\n",
    "\n",
    "\n",
    "\n",
    "    l = 1.1  # the arrow length\n",
    "    widh =0.035  #2*widh is the width of the arrow base as triangle\n",
    "    frames = []\n",
    "    \n",
    "    for i in range(len(locations)-1):\n",
    "        frames.extend(\n",
    "            [go.Frame(\n",
    "            data=[go.Scattermapbox(\n",
    "                lat=[locations['lat'][i]],  # 点的纬度\n",
    "                lon=[locations['lon'][i]],  # 点的经度\n",
    "                mode='markers',  # 模式设置为 markers\n",
    "                marker=dict(\n",
    "                    size=20,  # 点的大小\n",
    "                    color='green'  # 点的颜色\n",
    "                ),\n",
    "            )]\n",
    "        )]\n",
    "        )\n",
    "        # fig.add_trace(go.Scattermapbox(\n",
    "        #     lat=[locations['lat'][i]],  # 点的纬度\n",
    "        #     lon=[locations['lon'][i]],  # 点的经度\n",
    "        #     mode='markers',  # 模式设置为 markers\n",
    "        #     marker=dict(\n",
    "        #         size=20,  # 点的大小\n",
    "        #         color='green'  # 点的颜色\n",
    "        #     ),\n",
    "            # text=['Point 1', 'Point 2', 'Point 3'],  # 点旁边的文字\n",
    "            # hoverinfo='text'  # 设置悬停时显示的信息为文字\n",
    "        # ))\n",
    "        frames.extend(\n",
    "            \n",
    "                [go.Frame(\n",
    "                    data=[\n",
    "                       go.Scattermapbox(\n",
    "                        lat = [locations['lat'][i], locations['lat'][i+1]], \n",
    "                        lon = [locations['lon'][i], locations['lon'][i+1]],\n",
    "                        mode = 'lines',\n",
    "                        line = dict(width = 1.5, color = 'blue'),\n",
    "                        ) \n",
    "                    ]\n",
    "                )]\n",
    "            \n",
    "        )\n",
    "        \n",
    "    #     fig.add_trace(go.Scattermapbox(\n",
    "    #     lat = [locations['lat'][i], locations['lat'][i+1]], \n",
    "    #     lon = [locations['lon'][i], locations['lon'][i+1]],\n",
    "    #     mode = 'lines',\n",
    "    #     line = dict(width = 1.5, color = 'blue'),\n",
    "    # ))\n",
    "        \n",
    "\n",
    "        A = np.array([locations['lon'][i], locations['lat'][i]])\n",
    "        B = np.array([locations['lon'][i+1], locations['lat'][i+1]])\n",
    "        v = B-A\n",
    "        w = v/np.linalg.norm(v)     \n",
    "        u  =np.array([-v[1], v[0]])  #u orthogonal on  w\n",
    "                \n",
    "        P = B-l*w\n",
    "        S = P - widh*u\n",
    "        T = P + widh*u\n",
    "        \n",
    "        frames.extend(\n",
    "            [go.Frame(\n",
    "            data=[\n",
    "                go.Scattermapbox(lon = [S[0], T[0], B[0], S[0]], \n",
    "                                    lat =[S[1], T[1], B[1], S[1]], \n",
    "                                    mode='lines', \n",
    "                                    fill='toself', \n",
    "                                    fillcolor='yellow', \n",
    "                                    line_color='yellow')\n",
    "            ],\n",
    "            \n",
    "            )]\n",
    "        )\n",
    "\n",
    "        # fig.add_trace(go.Scattermapbox(lon = [S[0], T[0], B[0], S[0]], \n",
    "        #                             lat =[S[1], T[1], B[1], S[1]], \n",
    "        #                             mode='lines', \n",
    "        #                             fill='toself', \n",
    "        #                             fillcolor='yellow', \n",
    "    print(frames)\n",
    "    # print(len(frames))\n",
    "    fig.frames = frames\n",
    "\n",
    "# 设置动画参数\n",
    "    fig.update_layout(\n",
    "        updatemenus=[\n",
    "            dict(\n",
    "                buttons=[\n",
    "                    dict(\n",
    "                        label=\"播放\",\n",
    "                        method=\"animate\",\n",
    "                        args=[\n",
    "                            None,\n",
    "                            dict(\n",
    "                                frame=dict(duration=1000, redraw=True),\n",
    "                                fromcurrent=True,\n",
    "                                transition=dict(duration=500),\n",
    "                                mode=\"immediate\",\n",
    "                                suffix=\" \"\n",
    "                            )\n",
    "                        ]\n",
    "                    )\n",
    "                ],\n",
    "                x=0.5,\n",
    "                y=-0.1,\n",
    "                pad={\"r\": 10, \"t\": 87},\n",
    "                showactive=True,\n",
    "                type=\"buttons\",\n",
    "                xanchor=\"right\",\n",
    "                yanchor=\"top\"\n",
    "            )\n",
    "        ]\n",
    "    )    #                             line_color='yellow'))\n",
    "    fig.show()"
   ]
  },
  {
   "cell_type": "code",
   "execution_count": 60,
   "metadata": {},
   "outputs": [],
   "source": [
    "def draw_map(locations:pd.DataFrame):\n",
    "# 创建地图图表对象\n",
    "    fig = go.Figure()\n",
    "\n",
    "    # 添加地图轮廓图层\n",
    "    fig.add_trace(go.Choroplethmapbox(\n",
    "        geojson='https://raw.githubusercontent.com/python-visualization/folium/master/examples/data/world-countries.json',\n",
    "        locations=[],\n",
    "        z=[],\n",
    "        colorscale='Blues',\n",
    "        zmin=0,\n",
    "        zmax=1,\n",
    "        marker_opacity=0.5,\n",
    "        marker_line_width=0\n",
    "    ))\n",
    "\n",
    "    # 设置地图布局参数\n",
    "    fig.update_layout(\n",
    "        mapbox=dict(\n",
    "            style='carto-positron',\n",
    "            zoom=1.5,\n",
    "            center=dict(lat=0, lon=0),\n",
    "            layers=[]\n",
    "        ),\n",
    "        margin=dict(r=0, l=0, t=0, b=0),\n",
    "        height=600\n",
    "    )\n",
    "\n",
    "\n",
    "\n",
    "\n",
    "    l = 3  # the arrow length\n",
    "    widh =0.01 #2*widh is the width of the arrow base as triangle\n",
    "    frames = []\n",
    "    frame_data = []\n",
    "    fig.add_trace(go.Scattermapbox(\n",
    "            lat=[locations['lat'][0]],  # 点的纬度\n",
    "            lon=[locations['lon'][0]],  # 点的经度\n",
    "            mode='markers',  # 模式设置为 markers\n",
    "            marker=dict(\n",
    "                size=20,  # 点的大小\n",
    "                color='red'  # 点的颜色\n",
    "            ),\n",
    "            # text=['Point 1', 'Point 2', 'Point 3'],  # 点旁边的文字\n",
    "            # hoverinfo='text'  # 设置悬停时显示的信息为文字\n",
    "        ))\n",
    "    for i in range(len(locations)-1):\n",
    "        fig.add_trace(go.Scattermapbox(\n",
    "            lat=[locations['lat'][i+1]],  # 点的纬度\n",
    "            lon=[locations['lon'][i+1]],  # 点的经度\n",
    "            mode='markers',  # 模式设置为 markers\n",
    "            marker=dict(\n",
    "                size=15,  # 点的大小\n",
    "                color='green'  # 点的颜色\n",
    "            ),\n",
    "            # text=['Point 1', 'Point 2', 'Point 3'],  # 点旁边的文字\n",
    "            # hoverinfo='text'  # 设置悬停时显示的信息为文字\n",
    "        ))\n",
    "        fig.add_trace(go.Scattermapbox(\n",
    "        lat = [locations['lat'][i], locations['lat'][i+1]], \n",
    "        lon = [locations['lon'][i], locations['lon'][i+1]],\n",
    "        mode = 'lines',\n",
    "        line = dict(width = 1.5, color = 'blue'),\n",
    "        ))\n",
    "        A = np.array([locations['lon'][i], locations['lat'][i]])\n",
    "        B = np.array([locations['lon'][i+1], locations['lat'][i+1]])\n",
    "        v = B-A\n",
    "        w = v/np.linalg.norm(v)     \n",
    "        u  =np.array([-v[1], v[0]])  #u orthogonal on  w\n",
    "                \n",
    "        P = B-l*w\n",
    "        S = P - widh*u\n",
    "        T = P + widh*u\n",
    "        fig.add_trace(go.Scattermapbox(lon = [S[0], T[0], B[0], S[0]], \n",
    "                                    lat =[S[1], T[1], B[1], S[1]], \n",
    "                                    mode='lines', \n",
    "                                    fill='toself', \n",
    "                                    fillcolor='yellow', \n",
    "                                    line_color='yellow'))\n",
    "    fig.show()"
   ]
  }
 ],
 "metadata": {
  "kernelspec": {
   "display_name": "boost",
   "language": "python",
   "name": "python3"
  },
  "language_info": {
   "codemirror_mode": {
    "name": "ipython",
    "version": 3
   },
   "file_extension": ".py",
   "mimetype": "text/x-python",
   "name": "python",
   "nbconvert_exporter": "python",
   "pygments_lexer": "ipython3",
   "version": "3.9.13"
  },
  "orig_nbformat": 4
 },
 "nbformat": 4,
 "nbformat_minor": 2
}
